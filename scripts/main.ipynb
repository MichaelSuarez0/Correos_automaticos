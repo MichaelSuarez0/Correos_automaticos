{
 "cells": [
  {
   "cell_type": "markdown",
   "metadata": {},
   "source": [
    "# 0. Inicializar variables de entorno"
   ]
  },
  {
   "cell_type": "code",
   "execution_count": 1,
   "metadata": {},
   "outputs": [],
   "source": [
    "import os\n",
    "import re\n",
    "import json\n",
    "import sys\n",
    "from pathlib import Path, PurePath\n",
    "from shutil import move\n",
    "from datetime import date, timedelta\n",
    "from dotenv import load_dotenv\n",
    "from exchangelib import Account, Credentials, DELEGATE\n",
    "from office365.runtime.auth.authentication_context import AuthenticationContext\n",
    "from office365.runtime.auth.user_credential import UserCredential\n",
    "from office365.sharepoint.client_context import ClientContext\n",
    "from office365.sharepoint.files.file import File\n",
    "import imaplib\n",
    "import email\n",
    "from email.header import decode_header\n",
    "from correos_automaticos.classes.microsoft_apis  import Sharepoint, OutlookRetriever, FileManager, OutlookSender\n",
    "import pprint\n",
    "from collections import defaultdict\n",
    "\n",
    "# 1: Root directory to upload files\n",
    "#ROOT_DIR = sys.argv[1]\n",
    "\n",
    "# 2: Sharepoint folder name\n",
    "#SHAREPOINT_FOLDER_NAME = sys.argv[2]\n",
    "\n",
    "# 3: dictionary to classify files\n",
    "\n",
    "load_dotenv()\n",
    "\n",
    "# Configuración global\n",
    "IMAP_SERVER = os.getenv(\"IMAP_SERVER\")  \n",
    "OUTLOOK_EMAIL = os.getenv(\"OUTLOOK_EMAIL\")\n",
    "OUTLOOK_PASSWORD = os.getenv(\"OUTLOOK_PASSWORD\")\n",
    "SUBJECT_FILTER = os.getenv(\"SUBJECT_FILTER\")\n",
    "DOWNLOAD_PATH = r'C:\\Users\\SALVADOR\\OneDrive\\CEPLAN\\CeplanPythonCode\\microsoft\\descargas'  # Carpeta de descargas\n",
    "IMAP_PORT = os.getenv(\"IMAP_PORT\")  # Puerto para conexión segura\n",
    "\n",
    "\n",
    "# Diccionario para clasificar códigos de fichas\n",
    "ruta_json_1 = r'C:\\Users\\SALVADOR\\OneDrive\\CEPLAN\\CeplanPythonCode\\datasets\\rubros_subrubros.json'\n",
    "with open(ruta_json_1, \"r\", encoding='utf-8') as file:\n",
    "    rubros_subrubros = json.load(file)\n",
    "\n",
    "\n",
    "# Diccionario para buscar metadata de las fichas y renombrar archivos a partir de \"Título largo\"\n",
    "ruta_json = r'C:\\Users\\SALVADOR\\OneDrive\\CEPLAN\\CeplanPythonCode\\datasets\\info_obs.json'\n",
    "with open(ruta_json, \"r\", encoding='utf-8') as file:\n",
    "    info_obs = json.load(file)\n",
    "\n",
    "ruta_renombrados= os.path.join(DOWNLOAD_PATH, \"clasificados\")"
   ]
  },
  {
   "cell_type": "markdown",
   "metadata": {},
   "source": [
    "## 1. Definir funciones subordinadas"
   ]
  },
  {
   "cell_type": "code",
   "execution_count": 2,
   "metadata": {},
   "outputs": [
    {
     "name": "stdout",
     "output_type": "stream",
     "text": [
      "Riesgos/Riesgos Territoriales/Madre de Dios\n"
     ]
    }
   ],
   "source": [
    "def find_file_path(file_name, regex_dict):\n",
    "    \"\"\"\n",
    "    Clasifica un archivo según su nombre a partir de un diccionario de categorías.\n",
    "\n",
    "    Args:\n",
    "        file_name (str): El nombre del archivo a clasificar.\n",
    "        diccionario (dict): Diccionario que define las categorías y sus patrones regex.\n",
    "\n",
    "    Returns:\n",
    "        str: El path de clasificación en formato 'rubro/subrubro' o 'rubro/subrubro/departamento' si es territorial. \n",
    "    \"\"\"\n",
    "    patron = file_name.split(\" \")[0]  # Se asume que el patrón o código está antes del espacio\n",
    "    \n",
    "    for rubro, subdict in regex_dict.items():\n",
    "        for subrubro, regex in subdict.items():\n",
    "            \n",
    "            # Caso 1: nivel simple (nacional, global)\n",
    "            if isinstance(regex, str) and re.match(regex, patron, re.IGNORECASE):  # Añadí re.IGNORECASE para no diferenciar entre mayúsculas y minúsculas\n",
    "                return f'{rubro}/{subrubro}'\n",
    "            \n",
    "            # Caso 2: nivel complejo (es territorial)\n",
    "            if isinstance(regex, dict):\n",
    "                for departamento, true_regex in regex.items():\n",
    "                    if isinstance(true_regex, str) and re.match(true_regex, patron, re.IGNORECASE):\n",
    "                        return f'{rubro}/{subrubro}/{departamento}'\n",
    "\n",
    "    print(f\"  No se encontró coincidencia para: {file_name}\")\n",
    "    return \"\"\n",
    "\n",
    "\n",
    "def construct_log_dict(email_data, renamed_files_map):\n",
    "    \"\"\"\n",
    "    Reconstructs email_data dict to another dict suitable for sending confirmation emails to users based on uploaded attachments\n",
    "\n",
    "    Args:\n",
    "        email_data (dict): Dict obtained from get_emails.\n",
    "        renamed_files_map (dict): Dict mapping original names as keys and new names as values\n",
    "\n",
    "    Returns:\n",
    "        dict: A dictionary with senders as keys, attachments as subkeys, and details as values.\n",
    "    \"\"\"\n",
    "    user_attachments_log = {}\n",
    "    \n",
    "    # Iterar sobre los valores en email_data\n",
    "    for details in email_data.values():\n",
    "        sender = details.get(\"from_email\")\n",
    "\n",
    "        if not sender:\n",
    "            print(\"No sender found for email details:\", details)  # Depuración\n",
    "            continue\n",
    "\n",
    "        # Inicializar diccionario para el remitente si no existe\n",
    "        if sender not in user_attachments_log:\n",
    "            user_attachments_log[sender] = {}\n",
    "        \n",
    "        # Obtener lista de adjuntos\n",
    "        attachments = details.get(\"attachments\", [])\n",
    "        if not attachments:\n",
    "            print(f\"No attachments found for sender {sender}\")  # Depuración\n",
    "            continue\n",
    "        \n",
    "        # Iterar sobre los nombres originales de los archivos adjuntos\n",
    "        for old_file_name in attachments:\n",
    "            # Obtener el nuevo nombre del archivo del mapa de renombrados\n",
    "            new_file_name = renamed_files_map.get(old_file_name)\n",
    "            if not new_file_name:\n",
    "                print(f\"File {old_file_name} not found in renamed_files_map for sender {sender}\")  # Depuración\n",
    "                continue\n",
    "            \n",
    "            # Generar la ruta del nuevo archivo\n",
    "            new_file_path = find_file_path(new_file_name, rubros_subrubros)\n",
    "            \n",
    "            # Construir la entrada del archivo\n",
    "            user_attachments_log[sender][old_file_name] = {\n",
    "                \"original_name\": old_file_name,\n",
    "                \"new_name\": new_file_name,\n",
    "                \"path\": new_file_path\n",
    "            }\n",
    "\n",
    "    return user_attachments_log\n",
    "\n",
    "# Imprimir de manera legible\n",
    "def print_dict(d):\n",
    "    \"\"\"\n",
    "    Imprime un diccionario de manera más legible.\n",
    "    \"\"\"\n",
    "    for sender, attachments in d.items():\n",
    "        print(f\"\\nRemitente: {sender}\")\n",
    "        if attachments:\n",
    "            for file_name, path in attachments.items():\n",
    "                print(f\"  Archivo: {file_name} -> Ruta: {path}\")\n",
    "        else:\n",
    "            print(\"  No hay archivos clasificados.\")\n",
    "\n",
    "#print(find_file_category(\"tg1 ejemplo.txt\", rubros_subrubros))  # Debería imprimir: \"Tendencias/Tendencias Globales\"\n",
    "print(find_file_path(\"r23_madre ejemplo.txt\", rubros_subrubros))  # Debería imprimir: \"Tendencias/Tendencias Territoriales/Madre de Dios\""
   ]
  },
  {
   "cell_type": "markdown",
   "metadata": {},
   "source": [
    "## 2. Definir funciones principales"
   ]
  },
  {
   "cell_type": "code",
   "execution_count": 5,
   "metadata": {},
   "outputs": [
    {
     "name": "stdout",
     "output_type": "stream",
     "text": [
      "- Intentando establecer conexión con Outlook...\n",
      "- Conexión IMAP exitosa para el correo consultatecnica@ceplan.gob.pe\n",
      "- Se han obtenido 1 IDs de correos luego de aplicar el filtro\n",
      "- Total files downloaded: 3\n",
      "El archivo 'C:\\Users\\SALVADOR\\OneDrive\\CEPLAN\\CeplanPythonCode\\microsoft\\descargas\\clasificados\\t46 - Menor institucionalidad.docx' ya existe. Reemplazando...\n",
      "Archivo 't46-menor institucionalidad_vf 2_msp_rev.jpt.010827_os.docx' -> movido a: clasificados\n",
      "El archivo 'C:\\Users\\SALVADOR\\OneDrive\\CEPLAN\\CeplanPythonCode\\microsoft\\descargas\\clasificados\\tg39 - Variabilidad de las precipitaciones.xlsx' ya existe. Reemplazando...\n",
      "Archivo 'Tg39-Anexo 7B Variabilidad de las precipitaciones 13.12.xlsx' -> movido a: clasificados\n",
      "El archivo 'C:\\Users\\SALVADOR\\OneDrive\\CEPLAN\\CeplanPythonCode\\microsoft\\descargas\\clasificados\\tg39 - Variabilidad de las precipitaciones.docx' ya existe. Reemplazando...\n",
      "Archivo 'Tg39-Variabilidad de las precipitaciones 13.12.docx' -> movido a: clasificados\n",
      "Autenticación exitosa. Conexión establecida con SharePoint\n",
      "File 't46 - Menor institucionalidad.docx' uploaded successfully to '/sites/DNPE/Documentos compartidos/AOI Tendencias/Prueba/Tendencias/Tendencias Nacionales'.\n",
      "File 'tg39 - Variabilidad de las precipitaciones.xlsx' uploaded successfully to '/sites/DNPE/Documentos compartidos/AOI Tendencias/Prueba/Tendencias/Tendencias Globales'.\n",
      "File 'tg39 - Variabilidad de las precipitaciones.docx' uploaded successfully to '/sites/DNPE/Documentos compartidos/AOI Tendencias/Prueba/Tendencias/Tendencias Globales'.\n",
      "- Intentando establecer conexión con el servidor SMTP...\n",
      "- Autenticación SMTP exitosa.\n",
      "- Correo enviado a msuarez@ceplan.gob.pe.\n",
      "- Conexión SMTP cerrada.\n"
     ]
    }
   ],
   "source": [
    "def obtener_archivos(start_date: str):\n",
    "    \"\"\"_summary_\n",
    "\n",
    "    Args:\n",
    "        start_date (str, optional): _description_. \n",
    "\n",
    "    Returns:\n",
    "        email_data (dict)\n",
    "    \"\"\"\n",
    "    outlook_session = OutlookRetriever()\n",
    "    outlook_session._auth()\n",
    "    email_data = outlook_session.get_emails(start_date=start_date)\n",
    "    outlook_session.download_attachments(email_data)\n",
    "    return email_data\n",
    "\n",
    "\n",
    "def renombrar_y_clasificar(search_directory = DOWNLOAD_PATH, email_data = {}):\n",
    "    \"\"\"_summary_\n",
    "\n",
    "    Args:\n",
    "        search_directory (str): Path, please change it from DOWNLOAD_PATH.\n",
    "        dict_to_rename (dict): Defaults to info_obs.\n",
    "        email_data (dict): \n",
    "\n",
    "    Returns:\n",
    "        user_attachments_final (dict): Diccionario con senders como keys, attachments como subkeys y los paths como valores.\n",
    "    \"\"\"\n",
    "    file_manager = FileManager(search_directory=search_directory)\n",
    "    renamed_files_map = file_manager.rename_files(info_obs)\n",
    "    #lista_nombres_archivos = FileManager(ruta_renombrados).list_files()\n",
    "    user_attachments_log = construct_log_dict(email_data=email_data, renamed_files_map=renamed_files_map)\n",
    "    return renamed_files_map, user_attachments_log\n",
    "\n",
    "\n",
    "\n",
    "def upload_files_to_sharepoint(user_attachments_log):\n",
    "    sharepoint_session = Sharepoint()\n",
    "    sharepoint_session._auth()\n",
    "\n",
    "    for sender, file_dict in user_attachments_log.items():\n",
    "        for old_file_name, attachment_details in file_dict.items():\n",
    "            path = attachment_details.get(\"path\")\n",
    "            new_file_name  = attachment_details.get(\"new_name\")\n",
    "            try:\n",
    "                # Subir archivo a Sharepoint\n",
    "                sharepoint_session.upload_file(new_file_name, path)\n",
    "                # Actualizar estado en el log\n",
    "                attachment_details[\"sharepoint_status\"] = \"uploaded\"\n",
    "            except Exception as e:\n",
    "                attachment_details[\"sharepoint_status\"] = \"error\"\n",
    "\n",
    "\n",
    "def send_confirmation_emails(user_attachments_log):\n",
    "    outlook_sender_session = OutlookSender()\n",
    "    outlook_sender_session._auth()\n",
    "    outlook_sender_session.send_emails_with_template(user_attachments_log, \"sharepoint_success.html\")\n",
    "    outlook_sender_session.logout()\n",
    "\n",
    "\n",
    "def main(start_date: str):\n",
    "    email_data = obtener_archivos(start_date=start_date) # OutlookRetriever\n",
    "    renamed_files_map, user_attachments_log = renombrar_y_clasificar(email_data=email_data) # FileManager\n",
    "    upload_files_to_sharepoint(user_attachments_log) # Sharepoint\n",
    "    send_confirmation_emails(user_attachments_log) # OutlookSender\n",
    "    return email_data, user_attachments_log, renamed_files_map\n",
    "\n",
    "# if __name__ == \"__main__\":\n",
    "#     main(\"1-Jan-2025\")\n",
    "\n",
    "email_data, user_attachments_log, renamed_files_map = main(\"1-Jan-2025\")"
   ]
  },
  {
   "cell_type": "markdown",
   "metadata": {},
   "source": [
    "## 3. Pruebas"
   ]
  },
  {
   "cell_type": "code",
   "execution_count": 11,
   "metadata": {},
   "outputs": [
    {
     "data": {
      "text/plain": [
       "{'962': {'from_name': 'Gabriela Sthefany Pozo Bornas',\n",
       "  'from_email': 'gpozo@ceplan.gob.pe',\n",
       "  'sent': '',\n",
       "  'to': 'Consulta Técnica <consultatecnica@ceplan.gob.pe>',\n",
       "  'subject': 'Sistematizar Tg39',\n",
       "  'body': '',\n",
       "  'attachments': ['Tg39-Variabilidad de las precipitaciones 13.12.docx',\n",
       "   'Tg39-Anexo 7B Variabilidad de las precipitaciones 13.12.xlsx']},\n",
       " '963': {'from_name': 'Michael Salvador Suarez Patilongo',\n",
       "  'from_email': 'msuarez@ceplan.gob.pe',\n",
       "  'sent': '',\n",
       "  'to': 'Consulta Técnica <consultatecnica@ceplan.gob.pe>',\n",
       "  'subject': 'sistematizar',\n",
       "  'body': '',\n",
       "  'attachments': ['t44 REV_Indicador_Confianza poderes partidos_Modulo 85.EnahoINEI_MSP.xlsx',\n",
       "   't44 Mayor desconfianza en los Poderes del Estado_230623_MSP_Rev.JPT.docx']}}"
      ]
     },
     "execution_count": 11,
     "metadata": {},
     "output_type": "execute_result"
    }
   ],
   "source": [
    "email_data"
   ]
  },
  {
   "cell_type": "code",
   "execution_count": 12,
   "metadata": {},
   "outputs": [
    {
     "data": {
      "text/plain": [
       "{'t44 Mayor desconfianza en los Poderes del Estado_230623_MSP_Rev.JPT.docx': 't44 - Mayor desconfianza en los poderes del Estado.docx',\n",
       " 't44 REV_Indicador_Confianza poderes partidos_Modulo 85.EnahoINEI_MSP.xlsx': 't44 - Mayor desconfianza en los poderes del Estado.xlsx',\n",
       " 'Tg39-Anexo 7B Variabilidad de las precipitaciones 13.12.xlsx': 'tg39 - Variabilidad de las precipitaciones.xlsx',\n",
       " 'Tg39-Variabilidad de las precipitaciones 13.12.docx': 'tg39 - Variabilidad de las precipitaciones.docx'}"
      ]
     },
     "execution_count": 12,
     "metadata": {},
     "output_type": "execute_result"
    }
   ],
   "source": [
    "renamed_files_map"
   ]
  },
  {
   "cell_type": "code",
   "execution_count": 13,
   "metadata": {},
   "outputs": [
    {
     "data": {
      "text/plain": [
       "{'gpozo@ceplan.gob.pe': {'Tg39-Variabilidad de las precipitaciones 13.12.docx': {'original_name': 'Tg39-Variabilidad de las precipitaciones 13.12.docx',\n",
       "   'new_name': 'tg39 - Variabilidad de las precipitaciones.docx',\n",
       "   'path': 'Tendencias/Tendencias Globales',\n",
       "   'sharepoint_status': 'uploaded'},\n",
       "  'Tg39-Anexo 7B Variabilidad de las precipitaciones 13.12.xlsx': {'original_name': 'Tg39-Anexo 7B Variabilidad de las precipitaciones 13.12.xlsx',\n",
       "   'new_name': 'tg39 - Variabilidad de las precipitaciones.xlsx',\n",
       "   'path': 'Tendencias/Tendencias Globales',\n",
       "   'sharepoint_status': 'uploaded'}},\n",
       " 'msuarez@ceplan.gob.pe': {'t44 REV_Indicador_Confianza poderes partidos_Modulo 85.EnahoINEI_MSP.xlsx': {'original_name': 't44 REV_Indicador_Confianza poderes partidos_Modulo 85.EnahoINEI_MSP.xlsx',\n",
       "   'new_name': 't44 - Mayor desconfianza en los poderes del Estado.xlsx',\n",
       "   'path': 'Tendencias/Tendencias Nacionales',\n",
       "   'sharepoint_status': 'uploaded'},\n",
       "  't44 Mayor desconfianza en los Poderes del Estado_230623_MSP_Rev.JPT.docx': {'original_name': 't44 Mayor desconfianza en los Poderes del Estado_230623_MSP_Rev.JPT.docx',\n",
       "   'new_name': 't44 - Mayor desconfianza en los poderes del Estado.docx',\n",
       "   'path': 'Tendencias/Tendencias Nacionales',\n",
       "   'sharepoint_status': 'uploaded'}}}"
      ]
     },
     "execution_count": 13,
     "metadata": {},
     "output_type": "execute_result"
    }
   ],
   "source": [
    "user_attachments_log"
   ]
  },
  {
   "cell_type": "code",
   "execution_count": 14,
   "metadata": {},
   "outputs": [],
   "source": [
    "#send_confirmation_emails(user_attachments_log) # OutlookSender"
   ]
  }
 ],
 "metadata": {
  "kernelspec": {
   "display_name": "Python 3",
   "language": "python",
   "name": "python3"
  },
  "language_info": {
   "codemirror_mode": {
    "name": "ipython",
    "version": 3
   },
   "file_extension": ".py",
   "mimetype": "text/x-python",
   "name": "python",
   "nbconvert_exporter": "python",
   "pygments_lexer": "ipython3",
   "version": "3.10.7"
  }
 },
 "nbformat": 4,
 "nbformat_minor": 2
}
